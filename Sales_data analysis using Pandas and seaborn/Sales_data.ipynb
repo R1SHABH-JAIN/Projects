{
 "cells": [
  {
   "cell_type": "code",
   "execution_count": 8,
   "id": "45dd3b72-3d8e-4d17-8851-d29998124161",
   "metadata": {},
   "outputs": [],
   "source": [
    "import pandas as pd \n",
    "import seaborn as sns\n",
    "import matplotlib.pyplot as plt"
   ]
  },
  {
   "cell_type": "code",
   "execution_count": 9,
   "id": "2fc2dd37-6264-45f5-9460-2d4017480b6c",
   "metadata": {},
   "outputs": [],
   "source": [
    "sales_data = pd.read_csv('Data/sales_data.csv')"
   ]
  },
  {
   "cell_type": "code",
   "execution_count": 10,
   "id": "882493fd-c9d2-4885-814b-de47821d4ba6",
   "metadata": {},
   "outputs": [],
   "source": [
    "sales_data['Sale_Date']= pd.to_datetime(sales_data['Sale_Date'],errors='coerce')"
   ]
  },
  {
   "cell_type": "code",
   "execution_count": 11,
   "id": "6d2babaf-622a-4ea8-9eaf-87cc35a8e5a4",
   "metadata": {},
   "outputs": [
    {
     "name": "stdout",
     "output_type": "stream",
     "text": [
      "<class 'pandas.core.frame.DataFrame'>\n",
      "RangeIndex: 1000 entries, 0 to 999\n",
      "Data columns (total 14 columns):\n",
      " #   Column                Non-Null Count  Dtype         \n",
      "---  ------                --------------  -----         \n",
      " 0   Product_ID            1000 non-null   int64         \n",
      " 1   Sale_Date             379 non-null    datetime64[ns]\n",
      " 2   Sales_Rep             1000 non-null   object        \n",
      " 3   Region                1000 non-null   object        \n",
      " 4   Region_and_Sales_Rep  1000 non-null   object        \n",
      " 5   Product_Category      1000 non-null   object        \n",
      " 6   Unit_Cost             1000 non-null   float64       \n",
      " 7   Unit_Price            1000 non-null   float64       \n",
      " 8   Quantity_Sold         1000 non-null   int64         \n",
      " 9   Sales_Amount          1000 non-null   float64       \n",
      " 10  Discount              1000 non-null   float64       \n",
      " 11  Customer_Type         1000 non-null   object        \n",
      " 12  Payment_Method        1000 non-null   object        \n",
      " 13  Sales_Channel         1000 non-null   object        \n",
      "dtypes: datetime64[ns](1), float64(4), int64(2), object(7)\n",
      "memory usage: 109.5+ KB\n"
     ]
    }
   ],
   "source": [
    "sales_data.info()"
   ]
  },
  {
   "cell_type": "code",
   "execution_count": 12,
   "id": "aac44961-d787-4871-aae2-4c7c70bb7149",
   "metadata": {},
   "outputs": [],
   "source": [
    "sales_data.drop('Region_and_Sales_Rep',axis = 1,inplace = True)"
   ]
  },
  {
   "cell_type": "code",
   "execution_count": 13,
   "id": "e573caa0-eadf-4066-b172-43cdccf09b95",
   "metadata": {},
   "outputs": [
    {
     "data": {
      "text/html": [
       "<div>\n",
       "<style scoped>\n",
       "    .dataframe tbody tr th:only-of-type {\n",
       "        vertical-align: middle;\n",
       "    }\n",
       "\n",
       "    .dataframe tbody tr th {\n",
       "        vertical-align: top;\n",
       "    }\n",
       "\n",
       "    .dataframe thead th {\n",
       "        text-align: right;\n",
       "    }\n",
       "</style>\n",
       "<table border=\"1\" class=\"dataframe\">\n",
       "  <thead>\n",
       "    <tr style=\"text-align: right;\">\n",
       "      <th></th>\n",
       "      <th>Product_ID</th>\n",
       "      <th>Sale_Date</th>\n",
       "      <th>Sales_Rep</th>\n",
       "      <th>Region</th>\n",
       "      <th>Product_Category</th>\n",
       "      <th>Unit_Cost</th>\n",
       "      <th>Unit_Price</th>\n",
       "      <th>Quantity_Sold</th>\n",
       "      <th>Sales_Amount</th>\n",
       "      <th>Discount</th>\n",
       "      <th>Customer_Type</th>\n",
       "      <th>Payment_Method</th>\n",
       "      <th>Sales_Channel</th>\n",
       "    </tr>\n",
       "  </thead>\n",
       "  <tbody>\n",
       "    <tr>\n",
       "      <th>0</th>\n",
       "      <td>1052</td>\n",
       "      <td>2023-03-02</td>\n",
       "      <td>Bob</td>\n",
       "      <td>North</td>\n",
       "      <td>Furniture</td>\n",
       "      <td>152.75</td>\n",
       "      <td>267.22</td>\n",
       "      <td>18</td>\n",
       "      <td>5053.97</td>\n",
       "      <td>0.09</td>\n",
       "      <td>Returning</td>\n",
       "      <td>Cash</td>\n",
       "      <td>Online</td>\n",
       "    </tr>\n",
       "    <tr>\n",
       "      <th>1</th>\n",
       "      <td>1093</td>\n",
       "      <td>NaT</td>\n",
       "      <td>Bob</td>\n",
       "      <td>West</td>\n",
       "      <td>Furniture</td>\n",
       "      <td>3816.39</td>\n",
       "      <td>4209.44</td>\n",
       "      <td>17</td>\n",
       "      <td>4384.02</td>\n",
       "      <td>0.11</td>\n",
       "      <td>Returning</td>\n",
       "      <td>Cash</td>\n",
       "      <td>Retail</td>\n",
       "    </tr>\n",
       "    <tr>\n",
       "      <th>2</th>\n",
       "      <td>1015</td>\n",
       "      <td>NaT</td>\n",
       "      <td>David</td>\n",
       "      <td>South</td>\n",
       "      <td>Food</td>\n",
       "      <td>261.56</td>\n",
       "      <td>371.40</td>\n",
       "      <td>30</td>\n",
       "      <td>4631.23</td>\n",
       "      <td>0.20</td>\n",
       "      <td>Returning</td>\n",
       "      <td>Bank Transfer</td>\n",
       "      <td>Retail</td>\n",
       "    </tr>\n",
       "    <tr>\n",
       "      <th>3</th>\n",
       "      <td>1072</td>\n",
       "      <td>NaT</td>\n",
       "      <td>Bob</td>\n",
       "      <td>South</td>\n",
       "      <td>Clothing</td>\n",
       "      <td>4330.03</td>\n",
       "      <td>4467.75</td>\n",
       "      <td>39</td>\n",
       "      <td>2167.94</td>\n",
       "      <td>0.02</td>\n",
       "      <td>New</td>\n",
       "      <td>Credit Card</td>\n",
       "      <td>Retail</td>\n",
       "    </tr>\n",
       "    <tr>\n",
       "      <th>4</th>\n",
       "      <td>1061</td>\n",
       "      <td>NaT</td>\n",
       "      <td>Charlie</td>\n",
       "      <td>East</td>\n",
       "      <td>Electronics</td>\n",
       "      <td>637.37</td>\n",
       "      <td>692.71</td>\n",
       "      <td>13</td>\n",
       "      <td>3750.20</td>\n",
       "      <td>0.08</td>\n",
       "      <td>New</td>\n",
       "      <td>Credit Card</td>\n",
       "      <td>Online</td>\n",
       "    </tr>\n",
       "  </tbody>\n",
       "</table>\n",
       "</div>"
      ],
      "text/plain": [
       "   Product_ID  Sale_Date Sales_Rep Region Product_Category  Unit_Cost  \\\n",
       "0        1052 2023-03-02       Bob  North        Furniture     152.75   \n",
       "1        1093        NaT       Bob   West        Furniture    3816.39   \n",
       "2        1015        NaT     David  South             Food     261.56   \n",
       "3        1072        NaT       Bob  South         Clothing    4330.03   \n",
       "4        1061        NaT   Charlie   East      Electronics     637.37   \n",
       "\n",
       "   Unit_Price  Quantity_Sold  Sales_Amount  Discount Customer_Type  \\\n",
       "0      267.22             18       5053.97      0.09     Returning   \n",
       "1     4209.44             17       4384.02      0.11     Returning   \n",
       "2      371.40             30       4631.23      0.20     Returning   \n",
       "3     4467.75             39       2167.94      0.02           New   \n",
       "4      692.71             13       3750.20      0.08           New   \n",
       "\n",
       "  Payment_Method Sales_Channel  \n",
       "0           Cash        Online  \n",
       "1           Cash        Retail  \n",
       "2  Bank Transfer        Retail  \n",
       "3    Credit Card        Retail  \n",
       "4    Credit Card        Online  "
      ]
     },
     "execution_count": 13,
     "metadata": {},
     "output_type": "execute_result"
    }
   ],
   "source": [
    "sales_data.head()"
   ]
  },
  {
   "cell_type": "code",
   "execution_count": 14,
   "id": "26d1efc6-c1e5-4909-9d89-065e654c926a",
   "metadata": {},
   "outputs": [
    {
     "name": "stdout",
     "output_type": "stream",
     "text": [
      "['Bob' 'David' 'Charlie' 'Eve' 'Alice']\n",
      "\n",
      "['North' 'West' 'South' 'East']\n",
      "\n",
      "['Furniture' 'Food' 'Clothing' 'Electronics']\n",
      "\n",
      "['Cash' 'Bank Transfer' 'Credit Card']\n",
      "\n",
      "['Online' 'Retail']\n"
     ]
    }
   ],
   "source": [
    "print(sales_data['Sales_Rep'].unique())\n",
    "print('')\n",
    "print(sales_data['Region'].unique())\n",
    "print('')\n",
    "print(sales_data['Product_Category'].unique())\n",
    "print('')\n",
    "print(sales_data['Payment_Method'].unique())\n",
    "print('')\n",
    "print(sales_data['Sales_Channel'].unique())"
   ]
  },
  {
   "cell_type": "code",
   "execution_count": 15,
   "id": "ca9ef164-4585-43f3-a704-175c0e883e59",
   "metadata": {},
   "outputs": [],
   "source": [
    "sales_data['Profit per Unit'] = (sales_data['Unit_Price'] - sales_data['Unit_Cost'])"
   ]
  },
  {
   "cell_type": "code",
   "execution_count": 16,
   "id": "90cf1174-2ea0-4b19-a5d7-de89c353921a",
   "metadata": {},
   "outputs": [
    {
     "data": {
      "text/html": [
       "<div>\n",
       "<style scoped>\n",
       "    .dataframe tbody tr th:only-of-type {\n",
       "        vertical-align: middle;\n",
       "    }\n",
       "\n",
       "    .dataframe tbody tr th {\n",
       "        vertical-align: top;\n",
       "    }\n",
       "\n",
       "    .dataframe thead th {\n",
       "        text-align: right;\n",
       "    }\n",
       "</style>\n",
       "<table border=\"1\" class=\"dataframe\">\n",
       "  <thead>\n",
       "    <tr style=\"text-align: right;\">\n",
       "      <th></th>\n",
       "      <th>Product_ID</th>\n",
       "      <th>Sale_Date</th>\n",
       "      <th>Sales_Rep</th>\n",
       "      <th>Region</th>\n",
       "      <th>Product_Category</th>\n",
       "      <th>Unit_Cost</th>\n",
       "      <th>Unit_Price</th>\n",
       "      <th>Quantity_Sold</th>\n",
       "      <th>Sales_Amount</th>\n",
       "      <th>Discount</th>\n",
       "      <th>Customer_Type</th>\n",
       "      <th>Payment_Method</th>\n",
       "      <th>Sales_Channel</th>\n",
       "      <th>Profit per Unit</th>\n",
       "    </tr>\n",
       "  </thead>\n",
       "  <tbody>\n",
       "    <tr>\n",
       "      <th>0</th>\n",
       "      <td>1052</td>\n",
       "      <td>2023-03-02</td>\n",
       "      <td>Bob</td>\n",
       "      <td>North</td>\n",
       "      <td>Furniture</td>\n",
       "      <td>152.75</td>\n",
       "      <td>267.22</td>\n",
       "      <td>18</td>\n",
       "      <td>5053.97</td>\n",
       "      <td>0.09</td>\n",
       "      <td>Returning</td>\n",
       "      <td>Cash</td>\n",
       "      <td>Online</td>\n",
       "      <td>114.47</td>\n",
       "    </tr>\n",
       "    <tr>\n",
       "      <th>1</th>\n",
       "      <td>1093</td>\n",
       "      <td>NaT</td>\n",
       "      <td>Bob</td>\n",
       "      <td>West</td>\n",
       "      <td>Furniture</td>\n",
       "      <td>3816.39</td>\n",
       "      <td>4209.44</td>\n",
       "      <td>17</td>\n",
       "      <td>4384.02</td>\n",
       "      <td>0.11</td>\n",
       "      <td>Returning</td>\n",
       "      <td>Cash</td>\n",
       "      <td>Retail</td>\n",
       "      <td>393.05</td>\n",
       "    </tr>\n",
       "    <tr>\n",
       "      <th>2</th>\n",
       "      <td>1015</td>\n",
       "      <td>NaT</td>\n",
       "      <td>David</td>\n",
       "      <td>South</td>\n",
       "      <td>Food</td>\n",
       "      <td>261.56</td>\n",
       "      <td>371.40</td>\n",
       "      <td>30</td>\n",
       "      <td>4631.23</td>\n",
       "      <td>0.20</td>\n",
       "      <td>Returning</td>\n",
       "      <td>Bank Transfer</td>\n",
       "      <td>Retail</td>\n",
       "      <td>109.84</td>\n",
       "    </tr>\n",
       "    <tr>\n",
       "      <th>3</th>\n",
       "      <td>1072</td>\n",
       "      <td>NaT</td>\n",
       "      <td>Bob</td>\n",
       "      <td>South</td>\n",
       "      <td>Clothing</td>\n",
       "      <td>4330.03</td>\n",
       "      <td>4467.75</td>\n",
       "      <td>39</td>\n",
       "      <td>2167.94</td>\n",
       "      <td>0.02</td>\n",
       "      <td>New</td>\n",
       "      <td>Credit Card</td>\n",
       "      <td>Retail</td>\n",
       "      <td>137.72</td>\n",
       "    </tr>\n",
       "    <tr>\n",
       "      <th>4</th>\n",
       "      <td>1061</td>\n",
       "      <td>NaT</td>\n",
       "      <td>Charlie</td>\n",
       "      <td>East</td>\n",
       "      <td>Electronics</td>\n",
       "      <td>637.37</td>\n",
       "      <td>692.71</td>\n",
       "      <td>13</td>\n",
       "      <td>3750.20</td>\n",
       "      <td>0.08</td>\n",
       "      <td>New</td>\n",
       "      <td>Credit Card</td>\n",
       "      <td>Online</td>\n",
       "      <td>55.34</td>\n",
       "    </tr>\n",
       "  </tbody>\n",
       "</table>\n",
       "</div>"
      ],
      "text/plain": [
       "   Product_ID  Sale_Date Sales_Rep Region Product_Category  Unit_Cost  \\\n",
       "0        1052 2023-03-02       Bob  North        Furniture     152.75   \n",
       "1        1093        NaT       Bob   West        Furniture    3816.39   \n",
       "2        1015        NaT     David  South             Food     261.56   \n",
       "3        1072        NaT       Bob  South         Clothing    4330.03   \n",
       "4        1061        NaT   Charlie   East      Electronics     637.37   \n",
       "\n",
       "   Unit_Price  Quantity_Sold  Sales_Amount  Discount Customer_Type  \\\n",
       "0      267.22             18       5053.97      0.09     Returning   \n",
       "1     4209.44             17       4384.02      0.11     Returning   \n",
       "2      371.40             30       4631.23      0.20     Returning   \n",
       "3     4467.75             39       2167.94      0.02           New   \n",
       "4      692.71             13       3750.20      0.08           New   \n",
       "\n",
       "  Payment_Method Sales_Channel  Profit per Unit  \n",
       "0           Cash        Online           114.47  \n",
       "1           Cash        Retail           393.05  \n",
       "2  Bank Transfer        Retail           109.84  \n",
       "3    Credit Card        Retail           137.72  \n",
       "4    Credit Card        Online            55.34  "
      ]
     },
     "execution_count": 16,
     "metadata": {},
     "output_type": "execute_result"
    }
   ],
   "source": [
    "sales_data.head()"
   ]
  },
  {
   "cell_type": "code",
   "execution_count": 17,
   "id": "bc9db4c7-78fa-451e-a473-17a4fcc3add9",
   "metadata": {},
   "outputs": [],
   "source": [
    "sales_data.rename(columns={'Quantity_Sold':'Qty_Sold','Profit per Unit' : 'Profit/Unit'},inplace = True)"
   ]
  },
  {
   "cell_type": "code",
   "execution_count": 18,
   "id": "1e9e241e-4995-4ef1-b2ea-c0942f26377e",
   "metadata": {},
   "outputs": [
    {
     "name": "stdout",
     "output_type": "stream",
     "text": [
      "Total Qty_sold -  25355\n",
      "\n",
      "Total unit_cost -  2475304.55\n",
      "\n",
      "Total unit_price -  2728440.12\n"
     ]
    }
   ],
   "source": [
    "print('Total Qty_sold - ',sales_data['Qty_Sold'].sum().round(2))\n",
    "print('')\n",
    "print('Total unit_cost - ',sales_data['Unit_Cost'].sum().round(2))\n",
    "print('')\n",
    "print('Total unit_price - ',sales_data['Unit_Price'].sum().round(2))"
   ]
  },
  {
   "cell_type": "markdown",
   "id": "5bb33da2-0f54-4e5d-a105-b915e68c7538",
   "metadata": {},
   "source": [
    "## Total Returning Customers"
   ]
  },
  {
   "cell_type": "code",
   "execution_count": 19,
   "id": "eb36d758-d004-41e7-93f8-5132b62921a4",
   "metadata": {},
   "outputs": [
    {
     "name": "stdout",
     "output_type": "stream",
     "text": [
      "Count of Returning Customer -  496\n",
      "\n",
      "Count of New Customer -  504\n"
     ]
    }
   ],
   "source": [
    "print('Count of Returning Customer - ',(sales_data['Customer_Type'] == 'Returning').sum())\n",
    "print('')\n",
    "print('Count of New Customer - ',(sales_data['Customer_Type'] == 'New').sum())"
   ]
  },
  {
   "cell_type": "markdown",
   "id": "6e3c5e6e-3dcd-46ec-9ced-0dab700ab87b",
   "metadata": {},
   "source": [
    "# Region-wise Sales"
   ]
  },
  {
   "cell_type": "code",
   "execution_count": 20,
   "id": "3dc9fd69-d153-4bfa-96a9-d460d8d92561",
   "metadata": {},
   "outputs": [
    {
     "data": {
      "text/html": [
       "<div>\n",
       "<style scoped>\n",
       "    .dataframe tbody tr th:only-of-type {\n",
       "        vertical-align: middle;\n",
       "    }\n",
       "\n",
       "    .dataframe tbody tr th {\n",
       "        vertical-align: top;\n",
       "    }\n",
       "\n",
       "    .dataframe thead th {\n",
       "        text-align: right;\n",
       "    }\n",
       "</style>\n",
       "<table border=\"1\" class=\"dataframe\">\n",
       "  <thead>\n",
       "    <tr style=\"text-align: right;\">\n",
       "      <th></th>\n",
       "      <th>Region</th>\n",
       "      <th>Sales_Amount</th>\n",
       "    </tr>\n",
       "  </thead>\n",
       "  <tbody>\n",
       "    <tr>\n",
       "      <th>0</th>\n",
       "      <td>East</td>\n",
       "      <td>1259792.93</td>\n",
       "    </tr>\n",
       "    <tr>\n",
       "      <th>1</th>\n",
       "      <td>North</td>\n",
       "      <td>1369612.51</td>\n",
       "    </tr>\n",
       "    <tr>\n",
       "      <th>2</th>\n",
       "      <td>South</td>\n",
       "      <td>1154250.86</td>\n",
       "    </tr>\n",
       "    <tr>\n",
       "      <th>3</th>\n",
       "      <td>West</td>\n",
       "      <td>1235608.93</td>\n",
       "    </tr>\n",
       "  </tbody>\n",
       "</table>\n",
       "</div>"
      ],
      "text/plain": [
       "  Region  Sales_Amount\n",
       "0   East    1259792.93\n",
       "1  North    1369612.51\n",
       "2  South    1154250.86\n",
       "3   West    1235608.93"
      ]
     },
     "execution_count": 20,
     "metadata": {},
     "output_type": "execute_result"
    }
   ],
   "source": [
    "region_sales = sales_data.groupby(['Region'],as_index= False)['Sales_Amount'].sum()\n",
    "region_sales"
   ]
  },
  {
   "cell_type": "code",
   "execution_count": 21,
   "id": "93bd34a2-db75-4e00-bc2e-ea91a73c57fc",
   "metadata": {},
   "outputs": [
    {
     "data": {
      "image/png": "[encoded data removed]",
      "text/plain": [
       "<Figure size 400x400 with 1 Axes>"
      ]
     },
     "metadata": {},
     "output_type": "display_data"
    }
   ],
   "source": [
    "labels = region_sales['Region']\n",
    "sizes = region_sales['Sales_Amount']\n",
    "\n",
    "\n",
    "plt.figure(figsize=(4,4))\n",
    "plt.pie(sizes, labels=labels, autopct='%1.1f%%', startangle=90)\n",
    "plt.title('Sales Amount by Region')\n",
    "plt.show()"
   ]
  },
  {
   "cell_type": "markdown",
   "id": "864db973-25a8-487e-9668-d89eaf17806d",
   "metadata": {},
   "source": [
    "## Sales by Customer Type (Returning or New)"
   ]
  },
  {
   "cell_type": "code",
   "execution_count": 22,
   "id": "731713d6-8320-4f79-88b5-a8c28c1982de",
   "metadata": {},
   "outputs": [
    {
     "data": {
      "text/html": [
       "<div>\n",
       "<style scoped>\n",
       "    .dataframe tbody tr th:only-of-type {\n",
       "        vertical-align: middle;\n",
       "    }\n",
       "\n",
       "    .dataframe tbody tr th {\n",
       "        vertical-align: top;\n",
       "    }\n",
       "\n",
       "    .dataframe thead th {\n",
       "        text-align: right;\n",
       "    }\n",
       "</style>\n",
       "<table border=\"1\" class=\"dataframe\">\n",
       "  <thead>\n",
       "    <tr style=\"text-align: right;\">\n",
       "      <th></th>\n",
       "      <th>Customer_Type</th>\n",
       "      <th>Qty_Sold</th>\n",
       "      <th>Unit_Price</th>\n",
       "      <th>Sales_Amount</th>\n",
       "    </tr>\n",
       "  </thead>\n",
       "  <tbody>\n",
       "    <tr>\n",
       "      <th>0</th>\n",
       "      <td>New</td>\n",
       "      <td>13184</td>\n",
       "      <td>1393911.70</td>\n",
       "      <td>2506258.30</td>\n",
       "    </tr>\n",
       "    <tr>\n",
       "      <th>1</th>\n",
       "      <td>Returning</td>\n",
       "      <td>12171</td>\n",
       "      <td>1334528.42</td>\n",
       "      <td>2513006.93</td>\n",
       "    </tr>\n",
       "  </tbody>\n",
       "</table>\n",
       "</div>"
      ],
      "text/plain": [
       "  Customer_Type  Qty_Sold  Unit_Price  Sales_Amount\n",
       "0           New     13184  1393911.70    2506258.30\n",
       "1     Returning     12171  1334528.42    2513006.93"
      ]
     },
     "execution_count": 22,
     "metadata": {},
     "output_type": "execute_result"
    }
   ],
   "source": [
    "customer_data = sales_data.groupby(['Customer_Type'],as_index= False)[['Qty_Sold','Unit_Price','Sales_Amount']].sum()\n",
    "customer_data"
   ]
  },
  {
   "cell_type": "code",
   "execution_count": 28,
   "id": "2ebe830b-49ff-4808-81f3-56fb8d0f5f6e",
   "metadata": {},
   "outputs": [
    {
     "data": {
      "text/plain": [
       "<Axes: xlabel='Customer_Type', ylabel='Qty_Sold'>"
      ]
     },
     "execution_count": 28,
     "metadata": {},
     "output_type": "execute_result"
    },
    {
     "data": {
      "image/png": "[encoded data removed]",
      "text/plain": [
       "<Figure size 500x600 with 1 Axes>"
      ]
     },
     "metadata": {},
     "output_type": "display_data"
    }
   ],
   "source": [
    "sns.set(rc={'figure.figsize':(5,6)})\n",
    "sns.barplot(data = customer_data, x = 'Customer_Type',y= 'Qty_Sold')"
   ]
  },
  {
   "cell_type": "markdown",
   "id": "b8ce75e3-013b-46aa-aa3d-e543872160dd",
   "metadata": {},
   "source": [
    "## Sales_Rep V/S Customer_Type"
   ]
  },
  {
   "cell_type": "code",
   "execution_count": 29,
   "id": "a982987e-e659-4470-b078-4ee4ff69c037",
   "metadata": {},
   "outputs": [
    {
     "data": {
      "text/html": [
       "<div>\n",
       "<style scoped>\n",
       "    .dataframe tbody tr th:only-of-type {\n",
       "        vertical-align: middle;\n",
       "    }\n",
       "\n",
       "    .dataframe tbody tr th {\n",
       "        vertical-align: top;\n",
       "    }\n",
       "\n",
       "    .dataframe thead th {\n",
       "        text-align: right;\n",
       "    }\n",
       "</style>\n",
       "<table border=\"1\" class=\"dataframe\">\n",
       "  <thead>\n",
       "    <tr style=\"text-align: right;\">\n",
       "      <th></th>\n",
       "      <th>Sales_Rep</th>\n",
       "      <th>Customer_Type</th>\n",
       "    </tr>\n",
       "  </thead>\n",
       "  <tbody>\n",
       "    <tr>\n",
       "      <th>0</th>\n",
       "      <td>Alice</td>\n",
       "      <td>192</td>\n",
       "    </tr>\n",
       "    <tr>\n",
       "      <th>1</th>\n",
       "      <td>Bob</td>\n",
       "      <td>208</td>\n",
       "    </tr>\n",
       "    <tr>\n",
       "      <th>2</th>\n",
       "      <td>Charlie</td>\n",
       "      <td>169</td>\n",
       "    </tr>\n",
       "    <tr>\n",
       "      <th>3</th>\n",
       "      <td>David</td>\n",
       "      <td>222</td>\n",
       "    </tr>\n",
       "    <tr>\n",
       "      <th>4</th>\n",
       "      <td>Eve</td>\n",
       "      <td>209</td>\n",
       "    </tr>\n",
       "  </tbody>\n",
       "</table>\n",
       "</div>"
      ],
      "text/plain": [
       "  Sales_Rep  Customer_Type\n",
       "0     Alice            192\n",
       "1       Bob            208\n",
       "2   Charlie            169\n",
       "3     David            222\n",
       "4       Eve            209"
      ]
     },
     "execution_count": 29,
     "metadata": {},
     "output_type": "execute_result"
    }
   ],
   "source": [
    "sales_rep = sales_data.groupby(['Sales_Rep'],as_index= False)['Customer_Type'].count()\n",
    "sales_rep"
   ]
  },
  {
   "cell_type": "code",
   "execution_count": 55,
   "id": "8ce402a4-02b1-4a34-a6e9-c4eeb93a63b5",
   "metadata": {},
   "outputs": [
    {
     "data": {
      "text/plain": [
       "<Axes: xlabel='Sales_Rep', ylabel='Customer_Type'>"
      ]
     },
     "execution_count": 55,
     "metadata": {},
     "output_type": "execute_result"
    },
    {
     "data": {
      "image/png": "[encoded data removed]",
      "text/plain": [
       "<Figure size 1000x400 with 1 Axes>"
      ]
     },
     "metadata": {},
     "output_type": "display_data"
    }
   ],
   "source": [
    "sns.set(rc={'figure.figsize':(10,4)})\n",
    "sns.barplot(data= sales_rep, x= 'Sales_Rep', y= 'Customer_Type')"
   ]
  },
  {
   "cell_type": "markdown",
   "id": "05b9828a-f72f-4eab-8469-fe66f082a8a8",
   "metadata": {},
   "source": [
    "## Top Sales representative by sales"
   ]
  },
  {
   "cell_type": "code",
   "execution_count": 36,
   "id": "863adb44-5996-4ad2-8f50-f799c92fde47",
   "metadata": {},
   "outputs": [
    {
     "data": {
      "text/plain": [
       "Sales_Rep            David\n",
       "Sales_Amount    1141737.36\n",
       "Name: 3, dtype: object"
      ]
     },
     "execution_count": 36,
     "metadata": {},
     "output_type": "execute_result"
    }
   ],
   "source": [
    "top_sales_rep = sales_data.groupby(['Sales_Rep'],as_index= False)['Sales_Amount'].sum()\n",
    "\n",
    "top_sales_rep.loc[top_sales_rep['Sales_Amount'].idxmax()] \n",
    "\n",
    "top_sales_rep.iloc[top_sales_rep['Sales_Amount'].idxmax()] "
   ]
  },
  {
   "cell_type": "code",
   "execution_count": null,
   "id": "2f662979-21be-40c3-bae6-f48b10d0e291",
   "metadata": {},
   "outputs": [],
   "source": [
    "#Explanation\n",
    "\n",
    "#Why both iloc[] and loc[] work in this case:\n",
    "#idxmax() returns the default index (which is an integer like 3 in your case).\n",
    "#iloc[3] accesses the row by position, which works because 3 corresponds to the integer position of the row.\n",
    "#loc[3] also works because 3 is an integer, and pandas can treat the integer as a valid index label if the default index is integers.\n",
    "\n",
    "\n",
    "#So, why does it work with both iloc[] and loc[]?\n",
    "#iloc[] accesses the row by its position, and since idxmax() returns an integer index, it's directly usable.\n",
    "#loc[] accesses the row by its label, and since 3 is a valid index label in your case, loc[3] also works without issues."
   ]
  },
  {
   "cell_type": "markdown",
   "id": "c3ae2877-9461-412c-ab8b-232872a500e1",
   "metadata": {},
   "source": [
    "## Customer type and Different payment methods "
   ]
  },
  {
   "cell_type": "code",
   "execution_count": 37,
   "id": "2aaed1ba-f93d-4f58-8f3e-9a6b4e1f1ab7",
   "metadata": {},
   "outputs": [
    {
     "data": {
      "text/html": [
       "<div>\n",
       "<style scoped>\n",
       "    .dataframe tbody tr th:only-of-type {\n",
       "        vertical-align: middle;\n",
       "    }\n",
       "\n",
       "    .dataframe tbody tr th {\n",
       "        vertical-align: top;\n",
       "    }\n",
       "\n",
       "    .dataframe thead th {\n",
       "        text-align: right;\n",
       "    }\n",
       "</style>\n",
       "<table border=\"1\" class=\"dataframe\">\n",
       "  <thead>\n",
       "    <tr style=\"text-align: right;\">\n",
       "      <th></th>\n",
       "      <th>Payment_Method</th>\n",
       "      <th>Customer_Type</th>\n",
       "    </tr>\n",
       "  </thead>\n",
       "  <tbody>\n",
       "    <tr>\n",
       "      <th>0</th>\n",
       "      <td>Bank Transfer</td>\n",
       "      <td>342</td>\n",
       "    </tr>\n",
       "    <tr>\n",
       "      <th>1</th>\n",
       "      <td>Cash</td>\n",
       "      <td>313</td>\n",
       "    </tr>\n",
       "    <tr>\n",
       "      <th>2</th>\n",
       "      <td>Credit Card</td>\n",
       "      <td>345</td>\n",
       "    </tr>\n",
       "  </tbody>\n",
       "</table>\n",
       "</div>"
      ],
      "text/plain": [
       "  Payment_Method  Customer_Type\n",
       "0  Bank Transfer            342\n",
       "1           Cash            313\n",
       "2    Credit Card            345"
      ]
     },
     "execution_count": 37,
     "metadata": {},
     "output_type": "execute_result"
    }
   ],
   "source": [
    "cust_payment = sales_data.groupby(['Payment_Method'],as_index= False)['Customer_Type'].count()\n",
    "cust_payment"
   ]
  },
  {
   "cell_type": "code",
   "execution_count": 39,
   "id": "d533ec13-cce5-43e9-be8b-c51ee591f7b4",
   "metadata": {},
   "outputs": [
    {
     "data": {
      "text/plain": [
       "<Axes: xlabel='Payment_Method', ylabel='Customer_Type'>"
      ]
     },
     "execution_count": 39,
     "metadata": {},
     "output_type": "execute_result"
    },
    {
     "data": {
      "image/png": "[encoded data removed]",
      "text/plain": [
       "<Figure size 400x500 with 1 Axes>"
      ]
     },
     "metadata": {},
     "output_type": "display_data"
    }
   ],
   "source": [
    "sns.set(rc={'figure.figsize':(4,5)})\n",
    "sns.barplot(data= cust_payment, x= 'Payment_Method', y= 'Customer_Type')"
   ]
  },
  {
   "cell_type": "markdown",
   "id": "65b22f33-22c1-41f0-a91f-eded422e94dd",
   "metadata": {},
   "source": [
    "## Customer type and Different payment methods pivot"
   ]
  },
  {
   "cell_type": "code",
   "execution_count": 40,
   "id": "09b4632e-175f-4864-b92a-cdf36e70c122",
   "metadata": {},
   "outputs": [
    {
     "data": {
      "text/html": [
       "<div>\n",
       "<style scoped>\n",
       "    .dataframe tbody tr th:only-of-type {\n",
       "        vertical-align: middle;\n",
       "    }\n",
       "\n",
       "    .dataframe tbody tr th {\n",
       "        vertical-align: top;\n",
       "    }\n",
       "\n",
       "    .dataframe thead th {\n",
       "        text-align: right;\n",
       "    }\n",
       "</style>\n",
       "<table border=\"1\" class=\"dataframe\">\n",
       "  <thead>\n",
       "    <tr style=\"text-align: right;\">\n",
       "      <th>Customer_Type</th>\n",
       "      <th>New</th>\n",
       "      <th>Returning</th>\n",
       "    </tr>\n",
       "    <tr>\n",
       "      <th>Payment_Method</th>\n",
       "      <th></th>\n",
       "      <th></th>\n",
       "    </tr>\n",
       "  </thead>\n",
       "  <tbody>\n",
       "    <tr>\n",
       "      <th>Bank Transfer</th>\n",
       "      <td>181</td>\n",
       "      <td>161</td>\n",
       "    </tr>\n",
       "    <tr>\n",
       "      <th>Cash</th>\n",
       "      <td>160</td>\n",
       "      <td>153</td>\n",
       "    </tr>\n",
       "    <tr>\n",
       "      <th>Credit Card</th>\n",
       "      <td>163</td>\n",
       "      <td>182</td>\n",
       "    </tr>\n",
       "  </tbody>\n",
       "</table>\n",
       "</div>"
      ],
      "text/plain": [
       "Customer_Type   New  Returning\n",
       "Payment_Method                \n",
       "Bank Transfer   181        161\n",
       "Cash            160        153\n",
       "Credit Card     163        182"
      ]
     },
     "execution_count": 40,
     "metadata": {},
     "output_type": "execute_result"
    }
   ],
   "source": [
    "cust_payment_pivot = sales_data.groupby(['Payment_Method','Customer_Type'],as_index= False).size()\n",
    "\n",
    "cust_payment_pivot.pivot(index='Payment_Method', columns= 'Customer_Type',values= 'size' )"
   ]
  },
  {
   "cell_type": "code",
   "execution_count": 41,
   "id": "90bb7576-7633-4407-992d-ce2363cc5a9c",
   "metadata": {},
   "outputs": [
    {
     "data": {
      "text/plain": [
       "<Axes: xlabel='Payment_Method', ylabel='size'>"
      ]
     },
     "execution_count": 41,
     "metadata": {},
     "output_type": "execute_result"
    },
    {
     "data": {
      "image/png": "[encoded data removed]",
      "text/plain": [
       "<Figure size 900x500 with 1 Axes>"
      ]
     },
     "metadata": {},
     "output_type": "display_data"
    }
   ],
   "source": [
    "sns.set(rc={'figure.figsize':(9,5)})\n",
    "sns.barplot(data= cust_payment_pivot, x= 'Payment_Method', hue= 'Customer_Type',y = 'size')"
   ]
  },
  {
   "cell_type": "markdown",
   "id": "35ffa5ac-072f-477c-ac28-b39673c0ead9",
   "metadata": {},
   "source": [
    "## Sales by Product category"
   ]
  },
  {
   "cell_type": "code",
   "execution_count": 42,
   "id": "f340bf3f-227b-4fc3-a854-1c58c8042623",
   "metadata": {},
   "outputs": [
    {
     "data": {
      "text/html": [
       "<div>\n",
       "<style scoped>\n",
       "    .dataframe tbody tr th:only-of-type {\n",
       "        vertical-align: middle;\n",
       "    }\n",
       "\n",
       "    .dataframe tbody tr th {\n",
       "        vertical-align: top;\n",
       "    }\n",
       "\n",
       "    .dataframe thead th {\n",
       "        text-align: right;\n",
       "    }\n",
       "</style>\n",
       "<table border=\"1\" class=\"dataframe\">\n",
       "  <thead>\n",
       "    <tr style=\"text-align: right;\">\n",
       "      <th></th>\n",
       "      <th>Product_Category</th>\n",
       "      <th>Sales_Amount</th>\n",
       "    </tr>\n",
       "  </thead>\n",
       "  <tbody>\n",
       "    <tr>\n",
       "      <th>0</th>\n",
       "      <td>Clothing</td>\n",
       "      <td>1313474.36</td>\n",
       "    </tr>\n",
       "    <tr>\n",
       "      <th>1</th>\n",
       "      <td>Electronics</td>\n",
       "      <td>1243499.64</td>\n",
       "    </tr>\n",
       "    <tr>\n",
       "      <th>2</th>\n",
       "      <td>Food</td>\n",
       "      <td>1201773.54</td>\n",
       "    </tr>\n",
       "    <tr>\n",
       "      <th>3</th>\n",
       "      <td>Furniture</td>\n",
       "      <td>1260517.69</td>\n",
       "    </tr>\n",
       "  </tbody>\n",
       "</table>\n",
       "</div>"
      ],
      "text/plain": [
       "  Product_Category  Sales_Amount\n",
       "0         Clothing    1313474.36\n",
       "1      Electronics    1243499.64\n",
       "2             Food    1201773.54\n",
       "3        Furniture    1260517.69"
      ]
     },
     "execution_count": 42,
     "metadata": {},
     "output_type": "execute_result"
    }
   ],
   "source": [
    "product_sales = sales_data.groupby(['Product_Category'],as_index= False)['Sales_Amount'].sum()\n",
    "product_sales"
   ]
  },
  {
   "cell_type": "markdown",
   "id": "740d707e-e2f5-4eb9-a771-e2805411f01b",
   "metadata": {},
   "source": [
    "## Total (Quantity sold ,  price , cost , sales)"
   ]
  },
  {
   "cell_type": "code",
   "execution_count": 43,
   "id": "ee065a81-c463-4aaf-9ce3-5dea20c1ebc5",
   "metadata": {},
   "outputs": [
    {
     "data": {
      "text/html": [
       "<div>\n",
       "<style scoped>\n",
       "    .dataframe tbody tr th:only-of-type {\n",
       "        vertical-align: middle;\n",
       "    }\n",
       "\n",
       "    .dataframe tbody tr th {\n",
       "        vertical-align: top;\n",
       "    }\n",
       "\n",
       "    .dataframe thead th {\n",
       "        text-align: right;\n",
       "    }\n",
       "</style>\n",
       "<table border=\"1\" class=\"dataframe\">\n",
       "  <thead>\n",
       "    <tr style=\"text-align: right;\">\n",
       "      <th></th>\n",
       "      <th>Product_Category</th>\n",
       "      <th>Qty_Sold</th>\n",
       "      <th>Unit_Cost</th>\n",
       "      <th>Unit_Price</th>\n",
       "      <th>Sales_Amount</th>\n",
       "    </tr>\n",
       "  </thead>\n",
       "  <tbody>\n",
       "    <tr>\n",
       "      <th>0</th>\n",
       "      <td>Clothing</td>\n",
       "      <td>6922</td>\n",
       "      <td>662117.40</td>\n",
       "      <td>729296.71</td>\n",
       "      <td>1313474.36</td>\n",
       "    </tr>\n",
       "    <tr>\n",
       "      <th>1</th>\n",
       "      <td>Electronics</td>\n",
       "      <td>6096</td>\n",
       "      <td>626151.20</td>\n",
       "      <td>687620.97</td>\n",
       "      <td>1243499.64</td>\n",
       "    </tr>\n",
       "    <tr>\n",
       "      <th>2</th>\n",
       "      <td>Food</td>\n",
       "      <td>5608</td>\n",
       "      <td>544207.76</td>\n",
       "      <td>600665.45</td>\n",
       "      <td>1201773.54</td>\n",
       "    </tr>\n",
       "    <tr>\n",
       "      <th>3</th>\n",
       "      <td>Furniture</td>\n",
       "      <td>6729</td>\n",
       "      <td>642828.19</td>\n",
       "      <td>710856.99</td>\n",
       "      <td>1260517.69</td>\n",
       "    </tr>\n",
       "  </tbody>\n",
       "</table>\n",
       "</div>"
      ],
      "text/plain": [
       "  Product_Category  Qty_Sold  Unit_Cost  Unit_Price  Sales_Amount\n",
       "0         Clothing      6922  662117.40   729296.71    1313474.36\n",
       "1      Electronics      6096  626151.20   687620.97    1243499.64\n",
       "2             Food      5608  544207.76   600665.45    1201773.54\n",
       "3        Furniture      6729  642828.19   710856.99    1260517.69"
      ]
     },
     "execution_count": 43,
     "metadata": {},
     "output_type": "execute_result"
    }
   ],
   "source": [
    "total_qty_sold = sales_data.groupby(['Product_Category'],as_index= False)[['Qty_Sold','Unit_Cost','Unit_Price','Sales_Amount']].sum()\n",
    "total_qty_sold"
   ]
  },
  {
   "cell_type": "markdown",
   "id": "abf40d2a-5bf6-437d-9e4d-ec389fe14562",
   "metadata": {},
   "source": [
    "## Pivot for Product category and Customer_Type, Payment_Method, Sales_Channel"
   ]
  },
  {
   "cell_type": "code",
   "execution_count": 47,
   "id": "68639d5a-16c2-4ec3-b8f2-72b3b51896e7",
   "metadata": {},
   "outputs": [
    {
     "data": {
      "text/html": [
       "<div>\n",
       "<style scoped>\n",
       "    .dataframe tbody tr th:only-of-type {\n",
       "        vertical-align: middle;\n",
       "    }\n",
       "\n",
       "    .dataframe tbody tr th {\n",
       "        vertical-align: top;\n",
       "    }\n",
       "\n",
       "    .dataframe thead tr th {\n",
       "        text-align: left;\n",
       "    }\n",
       "\n",
       "    .dataframe thead tr:last-of-type th {\n",
       "        text-align: right;\n",
       "    }\n",
       "</style>\n",
       "<table border=\"1\" class=\"dataframe\">\n",
       "  <thead>\n",
       "    <tr>\n",
       "      <th>Payment_Method</th>\n",
       "      <th colspan=\"4\" halign=\"left\">Bank Transfer</th>\n",
       "      <th colspan=\"4\" halign=\"left\">Cash</th>\n",
       "      <th colspan=\"4\" halign=\"left\">Credit Card</th>\n",
       "    </tr>\n",
       "    <tr>\n",
       "      <th>Sales_Channel</th>\n",
       "      <th colspan=\"2\" halign=\"left\">Online</th>\n",
       "      <th colspan=\"2\" halign=\"left\">Retail</th>\n",
       "      <th colspan=\"2\" halign=\"left\">Online</th>\n",
       "      <th colspan=\"2\" halign=\"left\">Retail</th>\n",
       "      <th colspan=\"2\" halign=\"left\">Online</th>\n",
       "      <th colspan=\"2\" halign=\"left\">Retail</th>\n",
       "    </tr>\n",
       "    <tr>\n",
       "      <th>Customer_Type</th>\n",
       "      <th>New</th>\n",
       "      <th>Returning</th>\n",
       "      <th>New</th>\n",
       "      <th>Returning</th>\n",
       "      <th>New</th>\n",
       "      <th>Returning</th>\n",
       "      <th>New</th>\n",
       "      <th>Returning</th>\n",
       "      <th>New</th>\n",
       "      <th>Returning</th>\n",
       "      <th>New</th>\n",
       "      <th>Returning</th>\n",
       "    </tr>\n",
       "    <tr>\n",
       "      <th>Product_Category</th>\n",
       "      <th></th>\n",
       "      <th></th>\n",
       "      <th></th>\n",
       "      <th></th>\n",
       "      <th></th>\n",
       "      <th></th>\n",
       "      <th></th>\n",
       "      <th></th>\n",
       "      <th></th>\n",
       "      <th></th>\n",
       "      <th></th>\n",
       "      <th></th>\n",
       "    </tr>\n",
       "  </thead>\n",
       "  <tbody>\n",
       "    <tr>\n",
       "      <th>Clothing</th>\n",
       "      <td>18</td>\n",
       "      <td>24</td>\n",
       "      <td>30</td>\n",
       "      <td>21</td>\n",
       "      <td>19</td>\n",
       "      <td>18</td>\n",
       "      <td>21</td>\n",
       "      <td>20</td>\n",
       "      <td>28</td>\n",
       "      <td>13</td>\n",
       "      <td>27</td>\n",
       "      <td>29</td>\n",
       "    </tr>\n",
       "    <tr>\n",
       "      <th>Electronics</th>\n",
       "      <td>34</td>\n",
       "      <td>9</td>\n",
       "      <td>18</td>\n",
       "      <td>18</td>\n",
       "      <td>19</td>\n",
       "      <td>18</td>\n",
       "      <td>19</td>\n",
       "      <td>14</td>\n",
       "      <td>27</td>\n",
       "      <td>25</td>\n",
       "      <td>19</td>\n",
       "      <td>26</td>\n",
       "    </tr>\n",
       "    <tr>\n",
       "      <th>Food</th>\n",
       "      <td>23</td>\n",
       "      <td>18</td>\n",
       "      <td>19</td>\n",
       "      <td>19</td>\n",
       "      <td>16</td>\n",
       "      <td>19</td>\n",
       "      <td>24</td>\n",
       "      <td>19</td>\n",
       "      <td>9</td>\n",
       "      <td>21</td>\n",
       "      <td>20</td>\n",
       "      <td>19</td>\n",
       "    </tr>\n",
       "    <tr>\n",
       "      <th>Furniture</th>\n",
       "      <td>21</td>\n",
       "      <td>27</td>\n",
       "      <td>18</td>\n",
       "      <td>25</td>\n",
       "      <td>23</td>\n",
       "      <td>19</td>\n",
       "      <td>19</td>\n",
       "      <td>26</td>\n",
       "      <td>17</td>\n",
       "      <td>23</td>\n",
       "      <td>16</td>\n",
       "      <td>26</td>\n",
       "    </tr>\n",
       "  </tbody>\n",
       "</table>\n",
       "</div>"
      ],
      "text/plain": [
       "Payment_Method   Bank Transfer                              Cash            \\\n",
       "Sales_Channel           Online           Retail           Online             \n",
       "Customer_Type              New Returning    New Returning    New Returning   \n",
       "Product_Category                                                             \n",
       "Clothing                    18        24     30        21     19        18   \n",
       "Electronics                 34         9     18        18     19        18   \n",
       "Food                        23        18     19        19     16        19   \n",
       "Furniture                   21        27     18        25     23        19   \n",
       "\n",
       "Payment_Method                    Credit Card                             \n",
       "Sales_Channel    Retail                Online           Retail            \n",
       "Customer_Type       New Returning         New Returning    New Returning  \n",
       "Product_Category                                                          \n",
       "Clothing             21        20          28        13     27        29  \n",
       "Electronics          19        14          27        25     19        26  \n",
       "Food                 24        19           9        21     20        19  \n",
       "Furniture            19        26          17        23     16        26  "
      ]
     },
     "execution_count": 47,
     "metadata": {},
     "output_type": "execute_result"
    }
   ],
   "source": [
    "product_pivot = sales_data.groupby(['Product_Category','Payment_Method','Sales_Channel','Customer_Type'],as_index= False).size()\n",
    "product_pivot.pivot(index= 'Product_Category',values= 'size' , columns= ['Payment_Method','Sales_Channel','Customer_Type'])"
   ]
  },
  {
   "cell_type": "code",
   "execution_count": 45,
   "id": "49dfb98f-3be3-4d98-9d6a-2e37b7d4f646",
   "metadata": {},
   "outputs": [
    {
     "data": {
      "text/plain": [
       "<Axes: xlabel='Product_Category', ylabel='size'>"
      ]
     },
     "execution_count": 45,
     "metadata": {},
     "output_type": "execute_result"
    },
    {
     "data": {
      "image/png": "[encoded data removed]",
      "text/plain": [
       "<Figure size 900x500 with 1 Axes>"
      ]
     },
     "metadata": {},
     "output_type": "display_data"
    }
   ],
   "source": [
    "sns.set(rc={'figure.figsize':(9,5)})\n",
    "sns.barplot(data= product_pivot, x= 'Product_Category', hue= 'Payment_Method',y = 'size')"
   ]
  },
  {
   "cell_type": "code",
   "execution_count": 46,
   "id": "03a12867-2169-478f-a28d-7bd5f0115979",
   "metadata": {},
   "outputs": [
    {
     "data": {
      "text/plain": [
       "<Axes: xlabel='Product_Category', ylabel='size'>"
      ]
     },
     "execution_count": 46,
     "metadata": {},
     "output_type": "execute_result"
    },
    {
     "data": {
      "image/png": "[encoded data removed]",
      "text/plain": [
       "<Figure size 900x500 with 1 Axes>"
      ]
     },
     "metadata": {},
     "output_type": "display_data"
    }
   ],
   "source": [
    "sns.lineplot(data= product_pivot, x= 'Product_Category', hue= 'Sales_Channel',y = 'size')"
   ]
  },
  {
   "cell_type": "code",
   "execution_count": 48,
   "id": "147a1c38-f59f-4993-b130-f8005ad0bd19",
   "metadata": {},
   "outputs": [
    {
     "data": {
      "text/plain": [
       "<Axes: xlabel='Product_Category', ylabel='size'>"
      ]
     },
     "execution_count": 48,
     "metadata": {},
     "output_type": "execute_result"
    },
    {
     "data": {
      "image/png": "[encoded data removed]",
      "text/plain": [
       "<Figure size 900x500 with 1 Axes>"
      ]
     },
     "metadata": {},
     "output_type": "display_data"
    }
   ],
   "source": [
    "sns.barplot(data= product_pivot, x= 'Product_Category', hue= 'Customer_Type',y = 'size')"
   ]
  },
  {
   "cell_type": "markdown",
   "id": "1529eef7-6208-4972-9ec6-4c2fd3c6168f",
   "metadata": {},
   "source": [
    "## Sales_Rep Customer_Type Sales_Channel Relation"
   ]
  },
  {
   "cell_type": "code",
   "execution_count": 53,
   "id": "6e0c78df-f145-431b-ad0b-acddc5755240",
   "metadata": {},
   "outputs": [
    {
     "data": {
      "text/html": [
       "<div>\n",
       "<style scoped>\n",
       "    .dataframe tbody tr th:only-of-type {\n",
       "        vertical-align: middle;\n",
       "    }\n",
       "\n",
       "    .dataframe tbody tr th {\n",
       "        vertical-align: top;\n",
       "    }\n",
       "\n",
       "    .dataframe thead tr th {\n",
       "        text-align: left;\n",
       "    }\n",
       "\n",
       "    .dataframe thead tr:last-of-type th {\n",
       "        text-align: right;\n",
       "    }\n",
       "</style>\n",
       "<table border=\"1\" class=\"dataframe\">\n",
       "  <thead>\n",
       "    <tr>\n",
       "      <th>Customer_Type</th>\n",
       "      <th colspan=\"2\" halign=\"left\">New</th>\n",
       "      <th colspan=\"2\" halign=\"left\">Returning</th>\n",
       "    </tr>\n",
       "    <tr>\n",
       "      <th>Sales_Channel</th>\n",
       "      <th>Online</th>\n",
       "      <th>Retail</th>\n",
       "      <th>Online</th>\n",
       "      <th>Retail</th>\n",
       "    </tr>\n",
       "    <tr>\n",
       "      <th>Sales_Rep</th>\n",
       "      <th></th>\n",
       "      <th></th>\n",
       "      <th></th>\n",
       "      <th></th>\n",
       "    </tr>\n",
       "  </thead>\n",
       "  <tbody>\n",
       "    <tr>\n",
       "      <th>Alice</th>\n",
       "      <td>52</td>\n",
       "      <td>44</td>\n",
       "      <td>44</td>\n",
       "      <td>52</td>\n",
       "    </tr>\n",
       "    <tr>\n",
       "      <th>Bob</th>\n",
       "      <td>49</td>\n",
       "      <td>48</td>\n",
       "      <td>56</td>\n",
       "      <td>55</td>\n",
       "    </tr>\n",
       "    <tr>\n",
       "      <th>Charlie</th>\n",
       "      <td>44</td>\n",
       "      <td>40</td>\n",
       "      <td>44</td>\n",
       "      <td>41</td>\n",
       "    </tr>\n",
       "    <tr>\n",
       "      <th>David</th>\n",
       "      <td>57</td>\n",
       "      <td>60</td>\n",
       "      <td>49</td>\n",
       "      <td>56</td>\n",
       "    </tr>\n",
       "    <tr>\n",
       "      <th>Eve</th>\n",
       "      <td>52</td>\n",
       "      <td>58</td>\n",
       "      <td>41</td>\n",
       "      <td>58</td>\n",
       "    </tr>\n",
       "  </tbody>\n",
       "</table>\n",
       "</div>"
      ],
      "text/plain": [
       "Customer_Type    New        Returning       \n",
       "Sales_Channel Online Retail    Online Retail\n",
       "Sales_Rep                                   \n",
       "Alice             52     44        44     52\n",
       "Bob               49     48        56     55\n",
       "Charlie           44     40        44     41\n",
       "David             57     60        49     56\n",
       "Eve               52     58        41     58"
      ]
     },
     "execution_count": 53,
     "metadata": {},
     "output_type": "execute_result"
    }
   ],
   "source": [
    "represt_customer_channel = sales_data.groupby(['Sales_Rep','Customer_Type','Sales_Channel'],as_index= False).size()\n",
    "represt_customer_channel.pivot(index= 'Sales_Rep',columns= ['Customer_Type','Sales_Channel'], values= 'size')"
   ]
  },
  {
   "cell_type": "code",
   "execution_count": 56,
   "id": "bfc92be7-aea3-4e0f-af28-f0742ad35bd3",
   "metadata": {},
   "outputs": [
    {
     "data": {
      "text/plain": [
       "<Axes: xlabel='Sales_Rep', ylabel='size'>"
      ]
     },
     "execution_count": 56,
     "metadata": {},
     "output_type": "execute_result"
    },
    {
     "data": {
      "image/png": "[encoded data removed]",
      "text/plain": [
       "<Figure size 900x500 with 1 Axes>"
      ]
     },
     "metadata": {},
     "output_type": "display_data"
    }
   ],
   "source": [
    "sns.set(rc={'figure.figsize':(9,5)})\n",
    "sns.barplot(data= represt_customer_channel, x= 'Sales_Rep', y= 'size', hue= 'Sales_Channel' )"
   ]
  },
  {
   "cell_type": "code",
   "execution_count": 57,
   "id": "174e7ec7-5ae2-4a6f-98c1-35e5b3072c36",
   "metadata": {},
   "outputs": [
    {
     "data": {
      "text/plain": [
       "<Axes: xlabel='Sales_Rep', ylabel='size'>"
      ]
     },
     "execution_count": 57,
     "metadata": {},
     "output_type": "execute_result"
    },
    {
     "data": {
      "image/png": "[encoded data removed]",
      "text/plain": [
       "<Figure size 900x500 with 1 Axes>"
      ]
     },
     "metadata": {},
     "output_type": "display_data"
    }
   ],
   "source": [
    "sns.barplot(data= represt_customer_channel, x= 'Sales_Rep', y= 'size', hue= 'Customer_Type' )"
   ]
  }
 ],
 "metadata": {
  "kernelspec": {
   "display_name": "Python(Pandas_env)",
   "language": "python",
   "name": "pandas_env"
  },
  "language_info": {
   "codemirror_mode": {
    "name": "ipython",
    "version": 3
   },
   "file_extension": ".py",
   "mimetype": "text/x-python",
   "name": "python",
   "nbconvert_exporter": "python",
   "pygments_lexer": "ipython3",
   "version": "3.9.21"
  }
 },
 "nbformat": 4,
 "nbformat_minor": 5
}
